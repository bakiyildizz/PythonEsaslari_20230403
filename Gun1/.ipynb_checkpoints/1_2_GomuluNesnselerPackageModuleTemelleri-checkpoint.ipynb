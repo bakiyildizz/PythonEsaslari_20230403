{
 "cells": [
  {
   "cell_type": "markdown",
   "id": "0f148b94",
   "metadata": {},
   "source": [
    "## Package / Module Kavramı Temelleri\n",
    "* Python kütüphaneleri Package adı verilen klasorler içerisinde py dosyaları şekilinde depolanır.\n",
    "* Bilgisayarda yüklü olmayan bir pakete ihtiyaç duyarsak Python Repositorylerinde bu paketi bulup pip aracı ile indirebiliriz.\n",
    "\n",
    "* Paket Yüklemek ve Silmek için\n",
    "```\n",
    "> pip install paketAdi\n",
    "> pip uninstall paketAdi\n",
    "```\n",
    "\n",
    "* yüklü paketleri listelemek ve hakkında bilgi almak için\n",
    "```\n",
    "> pip list\n",
    "> pip show paketAdi\n",
    "```\n",
    "\n",
    "* Bilgisayarda yüklü olan paketleri çalışma ortamına almak için\n",
    "```python\n",
    "import paketAdi\n",
    "import paketAdi as takmaAdi\n",
    "import paket1, paket2\n",
    "\n",
    "#paketteki belli bir modulu yüklemek için\n",
    "from paketAdi import module.module.module\n",
    "```\n",
    "\n",
    "**Not:**\n",
    "* ! ile notebook içerisinde terminal komutları çalıştırılabilir.\n",
    "* `!pip install paketAdi` ile notebook içerisinden paket yükleyebiliriz. Ancak tavsiye edilmez."
   ]
  },
  {
   "cell_type": "markdown",
   "id": "bcc8f660",
   "metadata": {},
   "source": [
    "### Gömülü nesneler\n",
    "* hiç bir paketi ortama almadan çalışabileceğimiz nesnelerdir.\n",
    "* bunların listesine `__builtins__` üzerinden erişebiliriz. (başında ve sonunda ikişer alt çizgi ar."
   ]
  },
  {
   "cell_type": "code",
   "execution_count": 2,
   "id": "ed4eaae8",
   "metadata": {},
   "outputs": [
    {
     "data": {
      "text/plain": [
       "['ArithmeticError',\n",
       " 'AssertionError',\n",
       " 'AttributeError',\n",
       " 'BaseException',\n",
       " 'BlockingIOError',\n",
       " 'BrokenPipeError',\n",
       " 'BufferError',\n",
       " 'BytesWarning',\n",
       " 'ChildProcessError',\n",
       " 'ConnectionAbortedError',\n",
       " 'ConnectionError',\n",
       " 'ConnectionRefusedError',\n",
       " 'ConnectionResetError',\n",
       " 'DeprecationWarning',\n",
       " 'EOFError',\n",
       " 'Ellipsis',\n",
       " 'EncodingWarning',\n",
       " 'EnvironmentError',\n",
       " 'Exception',\n",
       " 'False',\n",
       " 'FileExistsError',\n",
       " 'FileNotFoundError',\n",
       " 'FloatingPointError',\n",
       " 'FutureWarning',\n",
       " 'GeneratorExit',\n",
       " 'IOError',\n",
       " 'ImportError',\n",
       " 'ImportWarning',\n",
       " 'IndentationError',\n",
       " 'IndexError',\n",
       " 'InterruptedError',\n",
       " 'IsADirectoryError',\n",
       " 'KeyError',\n",
       " 'KeyboardInterrupt',\n",
       " 'LookupError',\n",
       " 'MemoryError',\n",
       " 'ModuleNotFoundError',\n",
       " 'NameError',\n",
       " 'None',\n",
       " 'NotADirectoryError',\n",
       " 'NotImplemented',\n",
       " 'NotImplementedError',\n",
       " 'OSError',\n",
       " 'OverflowError',\n",
       " 'PendingDeprecationWarning',\n",
       " 'PermissionError',\n",
       " 'ProcessLookupError',\n",
       " 'RecursionError',\n",
       " 'ReferenceError',\n",
       " 'ResourceWarning',\n",
       " 'RuntimeError',\n",
       " 'RuntimeWarning',\n",
       " 'StopAsyncIteration',\n",
       " 'StopIteration',\n",
       " 'SyntaxError',\n",
       " 'SyntaxWarning',\n",
       " 'SystemError',\n",
       " 'SystemExit',\n",
       " 'TabError',\n",
       " 'TimeoutError',\n",
       " 'True',\n",
       " 'TypeError',\n",
       " 'UnboundLocalError',\n",
       " 'UnicodeDecodeError',\n",
       " 'UnicodeEncodeError',\n",
       " 'UnicodeError',\n",
       " 'UnicodeTranslateError',\n",
       " 'UnicodeWarning',\n",
       " 'UserWarning',\n",
       " 'ValueError',\n",
       " 'Warning',\n",
       " 'WindowsError',\n",
       " 'ZeroDivisionError',\n",
       " '__IPYTHON__',\n",
       " '__build_class__',\n",
       " '__debug__',\n",
       " '__doc__',\n",
       " '__import__',\n",
       " '__loader__',\n",
       " '__name__',\n",
       " '__package__',\n",
       " '__spec__',\n",
       " 'abs',\n",
       " 'aiter',\n",
       " 'all',\n",
       " 'anext',\n",
       " 'any',\n",
       " 'ascii',\n",
       " 'bin',\n",
       " 'bool',\n",
       " 'breakpoint',\n",
       " 'bytearray',\n",
       " 'bytes',\n",
       " 'callable',\n",
       " 'chr',\n",
       " 'classmethod',\n",
       " 'compile',\n",
       " 'complex',\n",
       " 'copyright',\n",
       " 'credits',\n",
       " 'delattr',\n",
       " 'dict',\n",
       " 'dir',\n",
       " 'display',\n",
       " 'divmod',\n",
       " 'enumerate',\n",
       " 'eval',\n",
       " 'exec',\n",
       " 'execfile',\n",
       " 'filter',\n",
       " 'float',\n",
       " 'format',\n",
       " 'frozenset',\n",
       " 'get_ipython',\n",
       " 'getattr',\n",
       " 'globals',\n",
       " 'hasattr',\n",
       " 'hash',\n",
       " 'help',\n",
       " 'hex',\n",
       " 'id',\n",
       " 'input',\n",
       " 'int',\n",
       " 'isinstance',\n",
       " 'issubclass',\n",
       " 'iter',\n",
       " 'len',\n",
       " 'license',\n",
       " 'list',\n",
       " 'locals',\n",
       " 'map',\n",
       " 'max',\n",
       " 'memoryview',\n",
       " 'min',\n",
       " 'next',\n",
       " 'object',\n",
       " 'oct',\n",
       " 'open',\n",
       " 'ord',\n",
       " 'pow',\n",
       " 'print',\n",
       " 'property',\n",
       " 'range',\n",
       " 'repr',\n",
       " 'reversed',\n",
       " 'round',\n",
       " 'runfile',\n",
       " 'set',\n",
       " 'setattr',\n",
       " 'slice',\n",
       " 'sorted',\n",
       " 'staticmethod',\n",
       " 'str',\n",
       " 'sum',\n",
       " 'super',\n",
       " 'tuple',\n",
       " 'type',\n",
       " 'vars',\n",
       " 'zip']"
      ]
     },
     "execution_count": 2,
     "metadata": {},
     "output_type": "execute_result"
    }
   ],
   "source": [
    "#dir fonksiyonu gölümü nesnedir ve tüm nesnelerin attributelerini görmemizi sağlar.\n",
    "dir(__builtins__) #gömülü nesnelerin listesini aldık.\n",
    "\n",
    "#print, dir, help, exit, input, pow, int, float, bool vs. paket yüklemeden kullnılabilecek nesnelerdir"
   ]
  },
  {
   "cell_type": "code",
   "execution_count": 3,
   "id": "5e64efb5",
   "metadata": {},
   "outputs": [
    {
     "name": "stdout",
     "output_type": "stream",
     "text": [
      "Help on built-in function pow in module builtins:\n",
      "\n",
      "pow(base, exp, mod=None)\n",
      "    Equivalent to base**exp with 2 arguments or base**exp % mod with 3 arguments\n",
      "    \n",
      "    Some types, such as ints, are able to use a more efficient algorithm when\n",
      "    invoked using the three argument form.\n",
      "\n"
     ]
    }
   ],
   "source": [
    "help(pow)"
   ]
  },
  {
   "cell_type": "code",
   "execution_count": 4,
   "id": "2a3c2baf",
   "metadata": {},
   "outputs": [
    {
     "data": {
      "text/plain": [
       "9"
      ]
     },
     "execution_count": 4,
     "metadata": {},
     "output_type": "execute_result"
    }
   ],
   "source": [
    "pow(3,2) #3'ün karesi"
   ]
  },
  {
   "cell_type": "markdown",
   "id": "aa35e915",
   "metadata": {},
   "source": [
    "### Bilgisayarda olan bir paketi çalışma ortamına alalım."
   ]
  },
  {
   "cell_type": "code",
   "execution_count": 8,
   "id": "e1bcafc8",
   "metadata": {},
   "outputs": [
    {
     "name": "stdout",
     "output_type": "stream",
     "text": [
      "Help on built-in function pow in module math:\n",
      "\n",
      "pow(x, y, /)\n",
      "    Return x**y (x to the power of y).\n",
      "\n"
     ]
    },
    {
     "data": {
      "text/plain": [
       "3.141592653589793"
      ]
     },
     "execution_count": 8,
     "metadata": {},
     "output_type": "execute_result"
    }
   ],
   "source": [
    "import math\n",
    "\n",
    "#nesneler bilgi alalım\n",
    "dir(math)\n",
    "help(math.pow)\n",
    "\n",
    "#\n",
    "math.pi"
   ]
  },
  {
   "cell_type": "code",
   "execution_count": 15,
   "id": "4f62ef48",
   "metadata": {},
   "outputs": [],
   "source": [
    "import os #işletim sistemi ilişkili işler için\n",
    "\n",
    "#\n",
    "os.makedirs(\"GordugundeSilKlasor\", exist_ok=True)\n",
    "\n",
    "#terminal komutlarının başında ! olmalıdır.\n",
    "!mkdir gordugundeSil2"
   ]
  },
  {
   "cell_type": "code",
   "execution_count": 17,
   "id": "ec5698f9",
   "metadata": {},
   "outputs": [
    {
     "name": "stdout",
     "output_type": "stream",
     "text": [
      "C:\\Users\\Abdullah\\Documents\\GitHub\\PythonEsaslari_20230403\\Gun1\n"
     ]
    }
   ],
   "source": [
    "#çalışma yolunu verir.\n",
    "os.getcwd()\n",
    "\n",
    "!cd\n",
    "#!pwd"
   ]
  },
  {
   "cell_type": "markdown",
   "id": "663d01ac",
   "metadata": {},
   "source": [
    "### Paket İndirmek ve Çalışma Ortamına Almak"
   ]
  },
  {
   "cell_type": "code",
   "execution_count": 18,
   "id": "afa32052",
   "metadata": {},
   "outputs": [
    {
     "name": "stdout",
     "output_type": "stream",
     "text": [
      "Collecting emoji\n",
      "  Using cached emoji-2.2.0.tar.gz (240 kB)\n",
      "  Preparing metadata (setup.py): started\n",
      "  Preparing metadata (setup.py): finished with status 'done'\n",
      "Installing collected packages: emoji\n",
      "  Running setup.py install for emoji: started\n",
      "  Running setup.py install for emoji: finished with status 'done'\n"
     ]
    },
    {
     "name": "stderr",
     "output_type": "stream",
     "text": [
      "  DEPRECATION: emoji is being installed using the legacy 'setup.py install' method, because it does not have a 'pyproject.toml' and the 'wheel' package is not installed. pip 23.1 will enforce this behaviour change. A possible replacement is to enable the '--use-pep517' option. Discussion can be found at https://github.com/pypa/pip/issues/8559\n"
     ]
    },
    {
     "name": "stdout",
     "output_type": "stream",
     "text": [
      "Successfully installed emoji-2.2.0\n"
     ]
    }
   ],
   "source": [
    "# öncelikle paketi indirelim.\n",
    "#paketleri notebook içeisinde indirmeyelim.\n",
    "!pip install emoji"
   ]
  },
  {
   "cell_type": "code",
   "execution_count": 24,
   "id": "d5bff68b",
   "metadata": {},
   "outputs": [
    {
     "name": "stdout",
     "output_type": "stream",
     "text": [
      "Python is fun ❤️\n"
     ]
    }
   ],
   "source": [
    "import emoji as em\n",
    "\n",
    "#\n",
    "#dir(em)\n",
    "#help(em)\n",
    "#help(em.emojize)\n",
    "\n",
    "#\n",
    "print(em.emojize(\"Python is fun :red_heart:\", variant=\"emoji_type\"))"
   ]
  }
 ],
 "metadata": {
  "kernelspec": {
   "display_name": "Python 3 (ipykernel)",
   "language": "python",
   "name": "python3"
  },
  "language_info": {
   "codemirror_mode": {
    "name": "ipython",
    "version": 3
   },
   "file_extension": ".py",
   "mimetype": "text/x-python",
   "name": "python",
   "nbconvert_exporter": "python",
   "pygments_lexer": "ipython3",
   "version": "3.10.1"
  },
  "toc": {
   "base_numbering": 1,
   "nav_menu": {},
   "number_sections": true,
   "sideBar": true,
   "skip_h1_title": false,
   "title_cell": "Table of Contents",
   "title_sidebar": "Contents",
   "toc_cell": false,
   "toc_position": {},
   "toc_section_display": true,
   "toc_window_display": false
  },
  "varInspector": {
   "cols": {
    "lenName": 16,
    "lenType": 16,
    "lenVar": 40
   },
   "kernels_config": {
    "python": {
     "delete_cmd_postfix": "",
     "delete_cmd_prefix": "del ",
     "library": "var_list.py",
     "varRefreshCmd": "print(var_dic_list())"
    },
    "r": {
     "delete_cmd_postfix": ") ",
     "delete_cmd_prefix": "rm(",
     "library": "var_list.r",
     "varRefreshCmd": "cat(var_dic_list()) "
    }
   },
   "types_to_exclude": [
    "module",
    "function",
    "builtin_function_or_method",
    "instance",
    "_Feature"
   ],
   "window_display": false
  }
 },
 "nbformat": 4,
 "nbformat_minor": 5
}
