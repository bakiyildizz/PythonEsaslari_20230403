{
 "cells": [
  {
   "cell_type": "markdown",
   "id": "4b376f49",
   "metadata": {},
   "source": [
    "## Operatorler\n",
    "![Operatorler.png](Operatorler.png)"
   ]
  },
  {
   "cell_type": "markdown",
   "id": "be6a9970",
   "metadata": {},
   "source": [
    "### Aritmatic\n",
    "* Parantez ile işlem önceliği belirlenebilir"
   ]
  },
  {
   "cell_type": "code",
   "execution_count": 2,
   "id": "a3680c5d",
   "metadata": {},
   "outputs": [
    {
     "data": {
      "text/plain": [
       "15.0"
      ]
     },
     "execution_count": 2,
     "metadata": {},
     "output_type": "execute_result"
    }
   ],
   "source": [
    "8/2*(2+2)-1\n",
    "\n",
    "# öncelikle parantez içi\n",
    "# çarpma bölme arasında işlem önceliği yok, soldan sağa işlem yapılır.\n",
    "# Toploma sonrasında çıkarma işlemi yapılır."
   ]
  },
  {
   "cell_type": "code",
   "execution_count": null,
   "id": "1f84f866",
   "metadata": {},
   "outputs": [],
   "source": [
    "#örn:\n",
    "'''\n",
    "    Haftalık çalışma saati verilen bir kişinin hakedişini hesaplayalım.\n",
    "    - min 40 saat çalıştığı varsayılsın.\n",
    "    - 40 saat üzeri çalışırsa saatlik ücretin 1.5 katı ile değerlendirilsin.\n",
    "    - saatlik ücret değiştirilebilir olsun.\n",
    "'''"
   ]
  },
  {
   "cell_type": "code",
   "execution_count": null,
   "id": "1b462737",
   "metadata": {},
   "outputs": [],
   "source": [
    "#soru:\n",
    "'''\n",
    "    iki dik kenarı verilen ücgenin hipotenüsünü hesaplayalım.\n",
    "    h^2 = x^2 + y^2\n",
    "    h : hipotenüs\n",
    "'''    "
   ]
  },
  {
   "cell_type": "code",
   "execution_count": null,
   "id": "35ca2c4f",
   "metadata": {},
   "outputs": [],
   "source": [
    "#soru:\n",
    "'''\n",
    "    Ay olarak yaşı verilen bebeğin yıl ve ay olarak yaşınını yazdıralım.\n",
    "    56 aylık bir bebek doğalı 4 yıl 8 ay olmuş.\n",
    "'''"
   ]
  }
 ],
 "metadata": {
  "kernelspec": {
   "display_name": "Python 3 (ipykernel)",
   "language": "python",
   "name": "python3"
  },
  "language_info": {
   "codemirror_mode": {
    "name": "ipython",
    "version": 3
   },
   "file_extension": ".py",
   "mimetype": "text/x-python",
   "name": "python",
   "nbconvert_exporter": "python",
   "pygments_lexer": "ipython3",
   "version": "3.10.1"
  },
  "toc": {
   "base_numbering": 1,
   "nav_menu": {},
   "number_sections": true,
   "sideBar": true,
   "skip_h1_title": false,
   "title_cell": "Table of Contents",
   "title_sidebar": "Contents",
   "toc_cell": false,
   "toc_position": {},
   "toc_section_display": true,
   "toc_window_display": false
  },
  "varInspector": {
   "cols": {
    "lenName": 16,
    "lenType": 16,
    "lenVar": 40
   },
   "kernels_config": {
    "python": {
     "delete_cmd_postfix": "",
     "delete_cmd_prefix": "del ",
     "library": "var_list.py",
     "varRefreshCmd": "print(var_dic_list())"
    },
    "r": {
     "delete_cmd_postfix": ") ",
     "delete_cmd_prefix": "rm(",
     "library": "var_list.r",
     "varRefreshCmd": "cat(var_dic_list()) "
    }
   },
   "types_to_exclude": [
    "module",
    "function",
    "builtin_function_or_method",
    "instance",
    "_Feature"
   ],
   "window_display": false
  }
 },
 "nbformat": 4,
 "nbformat_minor": 5
}
