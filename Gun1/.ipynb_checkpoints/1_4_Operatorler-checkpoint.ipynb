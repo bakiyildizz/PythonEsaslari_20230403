{
 "cells": [
  {
   "cell_type": "markdown",
   "id": "2d26802d",
   "metadata": {},
   "source": [
    "## Operatorler\n",
    "![Operatorler.png](Operatorler.png)"
   ]
  },
  {
   "cell_type": "markdown",
   "id": "7c43411f",
   "metadata": {},
   "source": [
    "### Aritmatic\n",
    "* Parantez ile işlem önceliği belirlenebilir"
   ]
  },
  {
   "cell_type": "code",
   "execution_count": 2,
   "id": "139cce03",
   "metadata": {},
   "outputs": [
    {
     "data": {
      "text/plain": [
       "15.0"
      ]
     },
     "execution_count": 2,
     "metadata": {},
     "output_type": "execute_result"
    }
   ],
   "source": [
    "8/2*(2+2)-1\n",
    "\n",
    "# öncelikle parantez içi\n",
    "# çarpma bölme arasında işlem önceliği yok, soldan sağa işlem yapılır.\n",
    "# Toploma sonrasında çıkarma işlemi yapılır."
   ]
  },
  {
   "cell_type": "code",
   "execution_count": 4,
   "id": "fc464c7c",
   "metadata": {},
   "outputs": [
    {
     "name": "stdout",
     "output_type": "stream",
     "text": [
      "Hakediş: 10500.0 TL olur.\n"
     ]
    }
   ],
   "source": [
    "#örn:\n",
    "'''\n",
    "    Haftalık çalışma saati verilen bir kişinin hakedişini hesaplayalım.\n",
    "    - min 40 saat çalıştığı varsayılsın.\n",
    "    - 40 saat üzeri çalışırsa saatlik ücretin 1.5 katı ile değerlendirilsin.\n",
    "    - saatlik ücret değiştirilebilir olsun.\n",
    "'''\n",
    "toplamCalismaSuresi = 60\n",
    "saatlikUcret = 150\n",
    "\n",
    "#\n",
    "hakedis = 40 * saatlikUcret + (toplamCalismaSuresi-40)*(saatlikUcret*1.5)\n",
    "\n",
    "print(\"Hakediş:\",hakedis,\"TL olur.\")"
   ]
  },
  {
   "cell_type": "code",
   "execution_count": 7,
   "id": "70ef620b",
   "metadata": {},
   "outputs": [
    {
     "name": "stdout",
     "output_type": "stream",
     "text": [
      "Hipotenüs: 5.0\n"
     ]
    }
   ],
   "source": [
    "#soru:\n",
    "'''\n",
    "    iki dik kenarı verilen ücgenin hipotenüsünü hesaplayalım.\n",
    "    h^2 = x^2 + y^2\n",
    "    h : hipotenüs\n",
    "    \n",
    "    Markdown:\n",
    "    * $h^2 = x^2 + y^2$\n",
    "    * $h = \\sqrt{x^2 + y^2}$\n",
    "'''    \n",
    "\n",
    "x = 3\n",
    "y = 4\n",
    "\n",
    "h = (x**2 + y**2)**0.5 #math.sqrt, pow\n",
    "\n",
    "print(\"Hipotenüs:\",h)"
   ]
  },
  {
   "cell_type": "markdown",
   "id": "4a2a8c88",
   "metadata": {},
   "source": [
    "* $h^2 = x^2 + y^2$\n",
    "* $h = \\sqrt{x^2 + y^2}$"
   ]
  },
  {
   "cell_type": "code",
   "execution_count": 10,
   "id": "24d272fd",
   "metadata": {},
   "outputs": [
    {
     "name": "stdout",
     "output_type": "stream",
     "text": [
      "Bebeğiniz doğalı 4 yıl ve 8 ay odu.\n"
     ]
    }
   ],
   "source": [
    "#soru:\n",
    "'''\n",
    "    Ay olarak yaşı verilen bebeğin yıl ve ay olarak yaşınını yazdıralım.\n",
    "    56 aylık bir bebek doğalı 4 yıl 8 ay olmuş.\n",
    "'''\n",
    "\n",
    "kacAylik = 56\n",
    "\n",
    "yil = kacAylik // 12 #sonucu tam olarak verir. 4.2 ise 4 elde ederiz.\n",
    "ay = kacAylik % 12\n",
    "\n",
    "\n",
    "print(\"Bebeğiniz doğalı\",yil,\"yıl ve\",ay,\"ay odu.\")"
   ]
  },
  {
   "cell_type": "markdown",
   "id": "b4bc4254",
   "metadata": {},
   "source": [
    "### Assignment"
   ]
  },
  {
   "cell_type": "code",
   "execution_count": 11,
   "id": "90fb1700",
   "metadata": {},
   "outputs": [
    {
     "name": "stdout",
     "output_type": "stream",
     "text": [
      "1 2 3\n"
     ]
    }
   ],
   "source": [
    "#klasik atama\n",
    "x = 1\n",
    "\n",
    "#zincir atama\n",
    "x = y = 1\n",
    "\n",
    "#unpacking (temel kural değer ile değişken deseneni aynı ise değeler değişkenlere atanır.)\n",
    "x,y,z = 1,2,3 #(1,2,3)\n",
    "\n",
    "print(x,y,z)"
   ]
  },
  {
   "cell_type": "code",
   "execution_count": 13,
   "id": "276c0fe7",
   "metadata": {},
   "outputs": [
    {
     "data": {
      "text/plain": [
       "6"
      ]
     },
     "execution_count": 13,
     "metadata": {},
     "output_type": "execute_result"
    }
   ],
   "source": [
    "# Cumulative atamalar (önceki değerle bir işlem yapmak)\n",
    "x = 1\n",
    "\n",
    "#\n",
    "#x = x+1\n",
    "x +=1 #x'in önceki değeri 1'i topla x'ye yaz \n",
    "\n",
    "#\n",
    "x *=3 #x'in ceki değeğeri ele 3'ü çarp x'e yaz.\n",
    "\n",
    "#\n",
    "x"
   ]
  },
  {
   "cell_type": "markdown",
   "id": "5a71f3fb",
   "metadata": {},
   "source": [
    "### Comparasion\n",
    "* True/False"
   ]
  },
  {
   "cell_type": "code",
   "execution_count": 15,
   "id": "cf78c56f",
   "metadata": {},
   "outputs": [
    {
     "data": {
      "text/plain": [
       "False"
      ]
     },
     "execution_count": 15,
     "metadata": {},
     "output_type": "execute_result"
    }
   ],
   "source": [
    "#örn: x sayısı çift mi?\n",
    "x = 5\n",
    "\n",
    "x%2 == 0 #2'ye bölümünden kalan 0 ise çifttir"
   ]
  },
  {
   "cell_type": "code",
   "execution_count": 18,
   "id": "13ab6fa2",
   "metadata": {},
   "outputs": [
    {
     "data": {
      "text/plain": [
       "False"
      ]
     },
     "execution_count": 18,
     "metadata": {},
     "output_type": "execute_result"
    }
   ],
   "source": [
    "degisken = \"metin\"\n",
    "\n",
    "#\n",
    "type(degisken) == str #değişkenin tipi str mi?\n",
    "\n",
    "#isinistance ile kontrol edilebilir.\n",
    "isinstance(degisken, int)\n",
    "isinstance(degisken, (float, int))"
   ]
  },
  {
   "cell_type": "markdown",
   "id": "5894b254",
   "metadata": {},
   "source": [
    "### Logical\n",
    "* True/False döner.\n",
    "\n",
    "* `and`: her iki tarafındaki mantıksal şart konrol edilir. her iki taraf True dönerse sonuç True olur.\n",
    "* `or` : herhangi True dönerse sonuc True olur.\n",
    "* `not(şart)`: mantıksal şartın tersini üretir."
   ]
  },
  {
   "cell_type": "code",
   "execution_count": 21,
   "id": "3ef629a6",
   "metadata": {},
   "outputs": [
    {
     "data": {
      "text/plain": [
       "True"
      ]
     },
     "execution_count": 21,
     "metadata": {},
     "output_type": "execute_result"
    }
   ],
   "source": [
    "#örn:\n",
    "kadi   =\"admin\"\n",
    "ksifre =\"123\"\n",
    "\n",
    "#\n",
    "kadi==\"admin\" and ksifre==\"123\" #her iki bilgi de True üretirse giriş başarılı olur. sonu True olur"
   ]
  },
  {
   "cell_type": "markdown",
   "id": "492dffc0",
   "metadata": {},
   "source": [
    "### Identity\n",
    "* `id()` memorydeki adresi verir.\n",
    "* `is` nesneler aynı mı?"
   ]
  },
  {
   "cell_type": "code",
   "execution_count": 24,
   "id": "95fec547",
   "metadata": {},
   "outputs": [
    {
     "name": "stdout",
     "output_type": "stream",
     "text": [
      "2627206709488 2627206709488\n",
      "True\n",
      "2627206709488 2627206709520\n",
      "False\n"
     ]
    }
   ],
   "source": [
    "a = 1\n",
    "b = a\n",
    "\n",
    "print(id(a), id(b))\n",
    "print(a is b)\n",
    "\n",
    "b = 2\n",
    "\n",
    "print(id(a), id(b))\n",
    "print(a is b) #memoryde farklı yerdeler."
   ]
  },
  {
   "cell_type": "markdown",
   "id": "8cb812bf",
   "metadata": {},
   "source": [
    "### Membership\n",
    "* `in`: bu nesne container içierisnde mevcut mu?\n",
    "* `not in`: yok değil mi?"
   ]
  },
  {
   "cell_type": "code",
   "execution_count": 26,
   "id": "9a526d3b",
   "metadata": {},
   "outputs": [
    {
     "data": {
      "text/plain": [
       "False"
      ]
     },
     "execution_count": 26,
     "metadata": {},
     "output_type": "execute_result"
    }
   ],
   "source": [
    "\"m\" in \"metin\" # str container tiptir.\n",
    "\n",
    "#\n",
    "100 in [1,2,3]"
   ]
  },
  {
   "cell_type": "code",
   "execution_count": 29,
   "id": "5e0e0163",
   "metadata": {},
   "outputs": [
    {
     "data": {
      "text/plain": [
       "False"
      ]
     },
     "execution_count": 29,
     "metadata": {},
     "output_type": "execute_result"
    }
   ],
   "source": [
    "#soru:\n",
    "'''\n",
    "    sqrt fonskiyonu __builtins__ nesneler içerisinde yani gömülü nesneler içerisinde var mı?\n",
    "'''\n",
    "type(dir(__builtins__))\n",
    "\n",
    "\"sqrt\" in dir(__builtins__)#math.sqrt şeklinde farklı bir kütüphanede mevcut."
   ]
  },
  {
   "cell_type": "markdown",
   "id": "d9ad9c0b",
   "metadata": {},
   "source": [
    "### Tip Dönüşümleri\n",
    "![TipDonusu.png](TipDonusu.png)"
   ]
  },
  {
   "cell_type": "code",
   "execution_count": 30,
   "id": "fc0ec186",
   "metadata": {},
   "outputs": [
    {
     "data": {
      "text/plain": [
       "2.23"
      ]
     },
     "execution_count": 30,
     "metadata": {},
     "output_type": "execute_result"
    }
   ],
   "source": [
    "#implicit\n",
    "1 + 1.23 #int + float = float"
   ]
  },
  {
   "cell_type": "code",
   "execution_count": 36,
   "id": "c1ca1ce3",
   "metadata": {},
   "outputs": [
    {
     "data": {
      "text/plain": [
       "'1 Kişi'"
      ]
     },
     "execution_count": 36,
     "metadata": {},
     "output_type": "execute_result"
    }
   ],
   "source": [
    "#explicit\n",
    "1 + 1\n",
    "\"bir\"+\"iki\"\n",
    "\n",
    "#str ve int içinde + operator destekleniyor.\n",
    "\n",
    "#\n",
    "#1+\"Kişi\" #Hata int ve str arasında + operatoru anlamsız.\n",
    "\n",
    "#\n",
    "#tip dönüşümü\n",
    "str(1)+\" Kişi\" #str ile tip dönüşümü yaptık. int tipini str tipine çevirdik."
   ]
  },
  {
   "cell_type": "code",
   "execution_count": 39,
   "id": "3e4441e4",
   "metadata": {},
   "outputs": [
    {
     "data": {
      "text/plain": [
       "7"
      ]
     },
     "execution_count": 39,
     "metadata": {},
     "output_type": "execute_result"
    }
   ],
   "source": [
    "int(\"7\") #7\n",
    "#int(\"yedi\")  #HATA. dönüşümün mümkün olması gerekir."
   ]
  },
  {
   "cell_type": "markdown",
   "id": "5dd56d36",
   "metadata": {},
   "source": [
    "### tuple, list, set dönüşümü\n",
    "* container tiplerin elemanlatı dönüştüğü tipin elemnaları olur"
   ]
  },
  {
   "cell_type": "code",
   "execution_count": 43,
   "id": "e0772043",
   "metadata": {},
   "outputs": [
    {
     "data": {
      "text/plain": [
       "{'A', 'B', 'I', 'K', 'L'}"
      ]
     },
     "execution_count": 43,
     "metadata": {},
     "output_type": "execute_result"
    }
   ],
   "source": [
    "metin = \"KALABALIK\" #str container tipitir. her bir lemanı karakterlerdir.\n",
    "\n",
    "#\n",
    "tuple(metin)\n",
    "list(metin)\n",
    "set(metin)"
   ]
  },
  {
   "cell_type": "markdown",
   "id": "d2d9ba00",
   "metadata": {},
   "source": [
    "### Kullanıcıdan Değer Almak için `input` fonksiyonu\n",
    "* dışıradan alınan değerler str dir."
   ]
  },
  {
   "cell_type": "code",
   "execution_count": 45,
   "id": "935fb427",
   "metadata": {},
   "outputs": [
    {
     "name": "stdout",
     "output_type": "stream",
     "text": [
      "1. Sayıyı giriniz: 10\n",
      "2. Sayıyı giriniz: 20\n",
      "1020\n",
      "30.0\n"
     ]
    }
   ],
   "source": [
    "s1 = input(\"1. Sayıyı giriniz: \")\n",
    "s2 = input(\"2. Sayıyı giriniz: \")\n",
    "\n",
    "#\n",
    "print(s1 + s2) #input ile gelenler strdir.\n",
    "\n",
    "#\n",
    "s1 = float(s1)\n",
    "s2 = float(s2)\n",
    "\n",
    "#\n",
    "print(s1+s2)"
   ]
  },
  {
   "cell_type": "markdown",
   "id": "087d6346",
   "metadata": {},
   "source": [
    "### Değişken silmek için"
   ]
  },
  {
   "cell_type": "code",
   "execution_count": 47,
   "id": "e5df5e31",
   "metadata": {},
   "outputs": [
    {
     "name": "stdout",
     "output_type": "stream",
     "text": [
      "<class 'int'>\n",
      "<class 'str'>\n"
     ]
    }
   ],
   "source": [
    "a = 12\n",
    "print(type(a))\n",
    "\n",
    "#python dynamic type özelliğine sahiptir\n",
    "a = \"metin\"\n",
    "print(type(a))"
   ]
  },
  {
   "cell_type": "code",
   "execution_count": 48,
   "id": "10dbae4f",
   "metadata": {},
   "outputs": [
    {
     "ename": "NameError",
     "evalue": "name 'a' is not defined",
     "output_type": "error",
     "traceback": [
      "\u001b[1;31m---------------------------------------------------------------------------\u001b[0m",
      "\u001b[1;31mNameError\u001b[0m                                 Traceback (most recent call last)",
      "\u001b[1;32m~\\AppData\\Local\\Temp/ipykernel_22500/2971452093.py\u001b[0m in \u001b[0;36m<module>\u001b[1;34m\u001b[0m\n\u001b[0;32m      2\u001b[0m \u001b[1;32mdel\u001b[0m \u001b[0ma\u001b[0m\u001b[1;33m\u001b[0m\u001b[1;33m\u001b[0m\u001b[0m\n\u001b[0;32m      3\u001b[0m \u001b[1;33m\u001b[0m\u001b[0m\n\u001b[1;32m----> 4\u001b[1;33m \u001b[0mprint\u001b[0m\u001b[1;33m(\u001b[0m\u001b[0ma\u001b[0m\u001b[1;33m)\u001b[0m\u001b[1;33m\u001b[0m\u001b[1;33m\u001b[0m\u001b[0m\n\u001b[0m",
      "\u001b[1;31mNameError\u001b[0m: name 'a' is not defined"
     ]
    }
   ],
   "source": [
    "#değişkeni memoryden düşürmek için\n",
    "del a\n",
    "\n",
    "#\n",
    "print(a)"
   ]
  }
 ],
 "metadata": {
  "kernelspec": {
   "display_name": "Python 3 (ipykernel)",
   "language": "python",
   "name": "python3"
  },
  "language_info": {
   "codemirror_mode": {
    "name": "ipython",
    "version": 3
   },
   "file_extension": ".py",
   "mimetype": "text/x-python",
   "name": "python",
   "nbconvert_exporter": "python",
   "pygments_lexer": "ipython3",
   "version": "3.10.1"
  },
  "toc": {
   "base_numbering": 1,
   "nav_menu": {},
   "number_sections": true,
   "sideBar": true,
   "skip_h1_title": false,
   "title_cell": "Table of Contents",
   "title_sidebar": "Contents",
   "toc_cell": false,
   "toc_position": {},
   "toc_section_display": true,
   "toc_window_display": false
  },
  "varInspector": {
   "cols": {
    "lenName": 16,
    "lenType": 16,
    "lenVar": 40
   },
   "kernels_config": {
    "python": {
     "delete_cmd_postfix": "",
     "delete_cmd_prefix": "del ",
     "library": "var_list.py",
     "varRefreshCmd": "print(var_dic_list())"
    },
    "r": {
     "delete_cmd_postfix": ") ",
     "delete_cmd_prefix": "rm(",
     "library": "var_list.r",
     "varRefreshCmd": "cat(var_dic_list()) "
    }
   },
   "types_to_exclude": [
    "module",
    "function",
    "builtin_function_or_method",
    "instance",
    "_Feature"
   ],
   "window_display": false
  }
 },
 "nbformat": 4,
 "nbformat_minor": 5
}
