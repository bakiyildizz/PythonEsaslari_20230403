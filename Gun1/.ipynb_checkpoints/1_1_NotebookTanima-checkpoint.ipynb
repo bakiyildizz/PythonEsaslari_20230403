{
 "cells": [
  {
   "cell_type": "markdown",
   "id": "48053e7e",
   "metadata": {},
   "source": [
    "# Python Dili Esasları\n",
    "\n",
    "![python](https://www.python.org/static/img/python-logo@2x.png)\n",
    "\n",
    "## Python Ortamının Hazırlanması\n",
    "\n",
    "\n",
    "**Python** ortamını hazırlamak için yapılması gerekenler:\n",
    "\n",
    "### Kurulum\n",
    "1. Öncelikle [python.org](https://www.python.org/) sitesinden Python Engine indirmeliyiz.\n",
    "2. Sonrasında `terminal` veya aşağıdaki gibi bir IDE ile çalışabiliriz.\n",
    "    * `Jupyter Notebook`, `Jupyter Lab`\n",
    "    * `Visual Studio Code`, `Spyder`, `PyCharm`\n",
    "3. Dilerseniz *Anaconda* dağıtımını kurup her şeyi derli toplu şekilde `Anaconda Navigator` aracı üzerinden yöntebilirsiniz.\n",
    "\n",
    "**Not:** Yukarıdaki yatık tek tırnakları <kbd>AltGr</kbd> + <kbd>;</kbd> + <kbd>Space</kbd> ile yaptık.\n",
    "\n",
    "### Çalışma Modları\n",
    "1. Interactive Mode\n",
    "2. Script Mode\n",
    "3. Setup\n",
    "\n",
    "### Komut Satırında Çalışırken\n",
    "\n",
    "```shell\n",
    "python --version\n",
    "py --version\n",
    "py3\n",
    "    help()\n",
    "    help(print)\n",
    "    exit()\n",
    "cls\n",
    "```\n",
    "\n",
    "### Çalışırken Sık Kullanılan Diller\n",
    "* Python Dili\n",
    "```python\n",
    "print(\"merhaba\",\"dünyalı\",sep=\"-\", end=\"!\")\n",
    "```\n",
    "* SQL Dili\n",
    "```sql\n",
    "SELECT * FROM TabloAdi WHERE Filtre\n",
    "```\n",
    "* terminal komutları\n",
    "\n",
    "### Bazı Kısayollar\n",
    "* Hücreleri çalıştırmak için <kbd>Ctrl</kbd> + <kbd>Enter</kbd> | <kbd>Shift</kbd> + <kbd>Enter</kbd> | <kbd>Alt</kbd> + <kbd>Enter</kbd>\n",
    "* Üste hücre eklemek için <kbd>A</kbd>, alta hücre eklemek için <kbd>B</kbd>\n",
    "* Hücreyi silmek için <kbd>D</kbd>,<kbd>D</kbd>\n",
    "* İşlemi geri almak için <kbd>Z</kbd>\n",
    "* Tüm kısayollar için <kbd>H</kbd> tuşuna basarız.\n",
    "\n",
    "### Matematiksel Formuller Üretebiliriz.\n",
    "* $x^2$\n",
    "* $x_1$\n",
    "* $\\int$\n",
    "* $\\infty$\n",
    "* $\\frac{1}{2}$\n",
    "* $\\sum$\n",
    "* $\\sum_{i=1}^{n}$\n",
    "* $\\sqrt{p}$\n",
    "* $$\n",
    "\\left[\n",
    "\t\\begin{array}{cc} \n",
    "\t\tm11&m12 \\\\\n",
    "\t\tm21&m22\n",
    "\t\\end{array}\n",
    "\\right] \n",
    "$$\n",
    "\n",
    "\n",
    "### HTML de kullanılabilir.\n",
    "<small>Bu metnin <font color='red'>Kırmızı olması için</font> HTML kullanıldı<small>"
   ]
  }
 ],
 "metadata": {
  "kernelspec": {
   "display_name": "Python 3 (ipykernel)",
   "language": "python",
   "name": "python3"
  },
  "language_info": {
   "codemirror_mode": {
    "name": "ipython",
    "version": 3
   },
   "file_extension": ".py",
   "mimetype": "text/x-python",
   "name": "python",
   "nbconvert_exporter": "python",
   "pygments_lexer": "ipython3",
   "version": "3.10.1"
  },
  "toc": {
   "base_numbering": 1,
   "nav_menu": {},
   "number_sections": true,
   "sideBar": true,
   "skip_h1_title": false,
   "title_cell": "Table of Contents",
   "title_sidebar": "Contents",
   "toc_cell": false,
   "toc_position": {},
   "toc_section_display": true,
   "toc_window_display": false
  },
  "varInspector": {
   "cols": {
    "lenName": 16,
    "lenType": 16,
    "lenVar": 40
   },
   "kernels_config": {
    "python": {
     "delete_cmd_postfix": "",
     "delete_cmd_prefix": "del ",
     "library": "var_list.py",
     "varRefreshCmd": "print(var_dic_list())"
    },
    "r": {
     "delete_cmd_postfix": ") ",
     "delete_cmd_prefix": "rm(",
     "library": "var_list.r",
     "varRefreshCmd": "cat(var_dic_list()) "
    }
   },
   "types_to_exclude": [
    "module",
    "function",
    "builtin_function_or_method",
    "instance",
    "_Feature"
   ],
   "window_display": false
  }
 },
 "nbformat": 4,
 "nbformat_minor": 5
}
