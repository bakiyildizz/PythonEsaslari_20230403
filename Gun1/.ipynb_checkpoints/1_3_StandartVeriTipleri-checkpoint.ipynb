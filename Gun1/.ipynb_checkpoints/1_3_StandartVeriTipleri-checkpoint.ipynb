{
 "cells": [
  {
   "cell_type": "markdown",
   "id": "d22156b3",
   "metadata": {},
   "source": [
    "## Python Standart Veri Tiplerini\n",
    "![PythonVeriTipleri](PythonVeriTipleri.png)"
   ]
  },
  {
   "cell_type": "markdown",
   "id": "38574016",
   "metadata": {},
   "source": [
    "### Değişken Tanımlamak ve Tip Hakkında Bilgi Almak"
   ]
  },
  {
   "cell_type": "code",
   "execution_count": 4,
   "id": "76a258cc",
   "metadata": {},
   "outputs": [
    {
     "name": "stdout",
     "output_type": "stream",
     "text": [
      "1\n"
     ]
    },
    {
     "data": {
      "text/plain": [
       "1"
      ]
     },
     "execution_count": 4,
     "metadata": {},
     "output_type": "execute_result"
    }
   ],
   "source": [
    "degisken = 1 #atama operatoru ile\n",
    "#Python Dynamic type özelilğine sahiptir. Veri tipini otomaitk tanır. Aynı değişkene farklı tipten değerler atanbilir.\n",
    "\n",
    "print(degisken)\n",
    "degisken"
   ]
  },
  {
   "cell_type": "code",
   "execution_count": 3,
   "id": "a1ce446e",
   "metadata": {},
   "outputs": [
    {
     "data": {
      "text/plain": [
       "int"
      ]
     },
     "execution_count": 3,
     "metadata": {},
     "output_type": "execute_result"
    }
   ],
   "source": [
    "#nesneinin veri tipini verir.\n",
    "type(degisken)"
   ]
  },
  {
   "cell_type": "code",
   "execution_count": 6,
   "id": "8f111f86",
   "metadata": {},
   "outputs": [
    {
     "data": {
      "text/plain": [
       "False"
      ]
     },
     "execution_count": 6,
     "metadata": {},
     "output_type": "execute_result"
    }
   ],
   "source": [
    "isinstance(degisken, int) #degisken veri tipi int midir?\n",
    "isinstance(degisken, (bool, float)) #float veya bool mu?"
   ]
  },
  {
   "cell_type": "markdown",
   "id": "0c9daada",
   "metadata": {},
   "source": [
    "### Primitive Types"
   ]
  },
  {
   "cell_type": "markdown",
   "id": "6cd2c1fe",
   "metadata": {},
   "source": [
    "#### NoneType"
   ]
  },
  {
   "cell_type": "code",
   "execution_count": 7,
   "id": "3dfe71b6",
   "metadata": {},
   "outputs": [
    {
     "data": {
      "text/plain": [
       "NoneType"
      ]
     },
     "execution_count": 7,
     "metadata": {},
     "output_type": "execute_result"
    }
   ],
   "source": [
    "type(None)"
   ]
  },
  {
   "cell_type": "markdown",
   "id": "4c5d334d",
   "metadata": {},
   "source": [
    "#### Numeric"
   ]
  },
  {
   "cell_type": "code",
   "execution_count": 10,
   "id": "c4d13684",
   "metadata": {},
   "outputs": [
    {
     "name": "stdout",
     "output_type": "stream",
     "text": [
      "<class 'int'>\n",
      "<class 'float'>\n",
      "<class 'complex'>\n"
     ]
    }
   ],
   "source": [
    "i = 1       #int(1)\n",
    "f = 1.23    #float(1.23)\n",
    "c = 12 + 3j #complex(12,3)\n",
    "\n",
    "print(type(i),type(f),type(c), sep=\"\\n\")"
   ]
  },
  {
   "cell_type": "markdown",
   "id": "d17ecbcb",
   "metadata": {},
   "source": [
    "#### Bool\n",
    "* True/False"
   ]
  },
  {
   "cell_type": "code",
   "execution_count": 12,
   "id": "bff761e6",
   "metadata": {},
   "outputs": [
    {
     "data": {
      "text/plain": [
       "bool"
      ]
     },
     "execution_count": 12,
     "metadata": {},
     "output_type": "execute_result"
    }
   ],
   "source": [
    "t = True #bool(true)\n",
    "f = False #bool(False)\n",
    "\n",
    "type(t)"
   ]
  },
  {
   "cell_type": "markdown",
   "id": "b7cce8cb",
   "metadata": {},
   "source": [
    "##### Bool tipi özel durumlarm\n",
    "* 0, None veya benzer şekilde yokluk ifade eden veriler (boş liste, tuple, set vs.) False olarak değerlendirilir.\n",
    "* Diğer veriler True olarak değerlendirilir."
   ]
  },
  {
   "cell_type": "code",
   "execution_count": 17,
   "id": "0aa5189e",
   "metadata": {},
   "outputs": [
    {
     "data": {
      "text/plain": [
       "True"
      ]
     },
     "execution_count": 17,
     "metadata": {},
     "output_type": "execute_result"
    }
   ],
   "source": [
    "#True dönenler\n",
    "True\n",
    "bool(True)\n",
    "\n",
    "bool(1)\n",
    "bool(-1)\n",
    "\n",
    "bool(123132)\n",
    "bool(\"metin\")\n",
    "\n",
    "bool(\"   \") #boşluk"
   ]
  },
  {
   "cell_type": "code",
   "execution_count": 21,
   "id": "6a2af2ad",
   "metadata": {},
   "outputs": [
    {
     "data": {
      "text/plain": [
       "False"
      ]
     },
     "execution_count": 21,
     "metadata": {},
     "output_type": "execute_result"
    }
   ],
   "source": [
    "#False\n",
    "False\n",
    "bool(False)\n",
    "\n",
    "bool(0)\n",
    "bool(\"\")\n",
    "\n",
    "bool([]) #boş liste\n",
    "bool(()) #boş tuple\n",
    "bool({}) #boş set"
   ]
  },
  {
   "cell_type": "markdown",
   "id": "38c9328d",
   "metadata": {},
   "source": [
    "### Container Types\n",
    "#### Sequence Types\n",
    "\n",
    "* Sıralıdır. Sıra numarası ile elemanlarına erişebiliriz.\n",
    "* Sıra numarası 0 'dan başlar"
   ]
  },
  {
   "cell_type": "markdown",
   "id": "13292522",
   "metadata": {},
   "source": [
    "#### str"
   ]
  },
  {
   "cell_type": "code",
   "execution_count": 26,
   "id": "7337bcc2",
   "metadata": {},
   "outputs": [
    {
     "name": "stdout",
     "output_type": "stream",
     "text": [
      "\n",
      "SELECT\n",
      "    Kolon1,\n",
      "    Kolon1\n",
      "FROM Tablo\n",
      "\n"
     ]
    },
    {
     "data": {
      "text/plain": [
       "str"
      ]
     },
     "execution_count": 26,
     "metadata": {},
     "output_type": "execute_result"
    }
   ],
   "source": [
    "#tek veya çift tırnak ile tek satırlık metinler tanımlayabiliriz.\n",
    "#birden fazla satır için tırnakları başta ve sonda 3'er defa kullanıyoruz.\n",
    "\n",
    "#tek satırlık metinler\n",
    "mesaj = \"merhaba dünyalı\"\n",
    "soru = 'nasılsın?'\n",
    "\n",
    "#çok satırlık metinler\n",
    "sorgu = \"\"\"\n",
    "SELECT\n",
    "    Kolon1,\n",
    "    Kolon1\n",
    "FROM Tablo\n",
    "\"\"\"\n",
    "\n",
    "print(sorgu)\n",
    "type(sorgu)"
   ]
  },
  {
   "cell_type": "markdown",
   "id": "b5d2d67d",
   "metadata": {},
   "source": [
    "#### tuple\n",
    "* immutable tiptir. yani elemanları güncellenemez.\n",
    "* Farklı tipleri bir arada tutabiliiz.\n",
    "* (,,,,,) veya ,,,,,, ile tuple tanımlanabilir."
   ]
  },
  {
   "cell_type": "code",
   "execution_count": 28,
   "id": "657569c6",
   "metadata": {},
   "outputs": [
    {
     "name": "stdout",
     "output_type": "stream",
     "text": [
      "(1, 2, 3, 'Metin', False, None)\n"
     ]
    },
    {
     "data": {
      "text/plain": [
       "tuple"
      ]
     },
     "execution_count": 28,
     "metadata": {},
     "output_type": "execute_result"
    }
   ],
   "source": [
    "t = (1,2,3,\"Metin\",False,None)\n",
    "t = 1,2,3,\"Metin\",False,None\n",
    "\n",
    "print(t)\n",
    "type(t)"
   ]
  },
  {
   "cell_type": "markdown",
   "id": "2e4fe7eb",
   "metadata": {},
   "source": [
    "#### list\n",
    "* mutabledır. yani elemanları güncelleneilir.\n",
    "* farklı tipleri bir arada tutar.\n",
    "* [,,,,] ile tanımlanır."
   ]
  },
  {
   "cell_type": "code",
   "execution_count": 30,
   "id": "59e23730",
   "metadata": {},
   "outputs": [
    {
     "name": "stdout",
     "output_type": "stream",
     "text": [
      "[1, 2, 3, 'Metin', True, None]\n"
     ]
    },
    {
     "data": {
      "text/plain": [
       "list"
      ]
     },
     "execution_count": 30,
     "metadata": {},
     "output_type": "execute_result"
    }
   ],
   "source": [
    "l = [1,2,3,\"Metin\",True,None]\n",
    "\n",
    "print(l)\n",
    "type(l)"
   ]
  },
  {
   "cell_type": "markdown",
   "id": "a3136eb8",
   "metadata": {},
   "source": [
    "#### Sequence Elemanlarına Ulaşmak\n",
    "* str, tuple, list\n",
    "* sıra numarası 0'dan başlar\n",
    "* negatif sıra numaraları kullanılabilir. Sondan (tersten) anlamına gelir.\n",
    "* Index ile:\n",
    "    * `sequenceNesnesi[IndexNumarasi]`\n",
    "* Slicer ile:\n",
    "    *  `sequenceNesnesi[start : stop : step]`\n",
    "        * start belirtmezsen en baştan\n",
    "        * stop belirtilmezse en sona\n",
    "        * step belirtmezse 1'er adımdakini getirir."
   ]
  },
  {
   "cell_type": "code",
   "execution_count": 36,
   "id": "7b42c733",
   "metadata": {},
   "outputs": [
    {
     "data": {
      "text/plain": [
       "['Ahmet', 'Fatma', 'Ayşe', 'Veli', 'Ali']"
      ]
     },
     "execution_count": 36,
     "metadata": {},
     "output_type": "execute_result"
    }
   ],
   "source": [
    "lst = [\"Ali\",\"Veli\",\"Ayşe\",\"Fatma\",\"Ahmet\"]\n",
    "\n",
    "#index\n",
    "lst[0] #ilk eleman\n",
    "lst[-1] #sondan ilk eleman\n",
    "\n",
    "\n",
    "#slicer\n",
    "lst[0:4:2] #0-4 arasındakiler 2'şer atlayıp getir. Son index dahil değil.\n",
    "\n",
    "#\n",
    "lst[:3] #en baştan 3. indexe kadar\n",
    "lst[2:] #2. indexten başla en sona git\n",
    "\n",
    "#step -1 verelim\n",
    "lst[::-1] #step -1 olursa tersten yazar."
   ]
  },
  {
   "cell_type": "markdown",
   "id": "94d8df8f",
   "metadata": {},
   "source": [
    "#### Set Types\n",
    "* Elemanları sıralı değildir.\n",
    "\n",
    "##### set\n",
    "* {,,,} ile tanımlanır. set({})\n",
    "* Elemanları immutable olmak zorundadır. Kendisi mutabledır.\n",
    "* Sıra nuamrası ile elemanlara erişilemez.\n",
    "* matematik teki kümelere benzer şekilde benzersiz elemanlar tutar ve küme işlemlerini destekler."
   ]
  },
  {
   "cell_type": "code",
   "execution_count": 38,
   "id": "6a249588",
   "metadata": {},
   "outputs": [
    {
     "name": "stdout",
     "output_type": "stream",
     "text": [
      "{0, 1, 2, 3, 'Metin'}\n"
     ]
    }
   ],
   "source": [
    "s = {0,1,2,3,\"Metin\",False,True, \"Metin\",0}\n",
    "\n",
    "print(s)\n",
    "#benzersiz elemanlar tutar."
   ]
  },
  {
   "cell_type": "code",
   "execution_count": 39,
   "id": "d40fc922",
   "metadata": {},
   "outputs": [
    {
     "name": "stdout",
     "output_type": "stream",
     "text": [
      "{'A', 'L', 'I', 'K', 'B'}\n"
     ]
    }
   ],
   "source": [
    "m = {\"K\",\"A\",\"L\",\"A\",\"B\",\"A\",\"L\",\"I\",\"K\"}\n",
    "\n",
    "print(m) #sıralı değildir."
   ]
  },
  {
   "cell_type": "code",
   "execution_count": 43,
   "id": "e1ea18f6",
   "metadata": {},
   "outputs": [
    {
     "data": {
      "text/plain": [
       "{'Ali', 'Veli', frozenset({'Ayşe', 'Fatma'})}"
      ]
     },
     "execution_count": 43,
     "metadata": {},
     "output_type": "execute_result"
    }
   ],
   "source": [
    "# set içerisne set eklenemez. frozenset eklenir.\n",
    "#s= {\"Ali\",\"Veli\",{\"Ayşe\",\"Fatma\"}} #HATA!!!!\n",
    "\n",
    "s= {\"Ali\",\"Veli\",frozenset({\"Ayşe\",\"Fatma\"})} #frozenset immutabledır.\n",
    "\n",
    "s"
   ]
  },
  {
   "cell_type": "markdown",
   "id": "6b51694e",
   "metadata": {},
   "source": [
    "### Mapping Types\n",
    "* Sıralı değildir\n",
    "* {key:value, key:value} şeklinde tanımlanır.\n",
    "\n",
    "#### dict\n",
    "* kendisi mutabledır.\n",
    "* keyleri immutable olmalıdır.\n",
    "* elemanlara keyler ile erişebiliriz"
   ]
  },
  {
   "cell_type": "code",
   "execution_count": 47,
   "id": "811b42fb",
   "metadata": {},
   "outputs": [
    {
     "data": {
      "text/plain": [
       "{'Ad': 'Abdullah',\n",
       " 'Soyad': 'Kisi',\n",
       " 'Yas': 55,\n",
       " 1231321: 'SicilNo',\n",
       " 'AktifMi': True,\n",
       " 'Ehliyetler': ['A', 'B', 'F'],\n",
       " (2023, 'Maaş'): 565621}"
      ]
     },
     "execution_count": 47,
     "metadata": {},
     "output_type": "execute_result"
    }
   ],
   "source": [
    "personel = {\n",
    "            \"Ad\":\"Abdullah\",\n",
    "            \"Soyad\":\"Kisi\",\n",
    "            \"Yas\":55,\n",
    "            1231321:\"SicilNo\", #keyler immutable olmalıdır.\n",
    "            \"AktifMi\":True,\n",
    "            \"Ehliyetler\":[\"A\",\"B\",\"F\"],\n",
    "            #[2023, \"Maaş\"]:565621 #keylerin immutable olması gerekir.\n",
    "            (2023, \"Maaş\"):565621\n",
    "}\n",
    "\n",
    "#\n",
    "personel"
   ]
  },
  {
   "cell_type": "code",
   "execution_count": null,
   "id": "e0f0d716",
   "metadata": {},
   "outputs": [],
   "source": [
    "#### Dict tipinin elemanlarına erişmek"
   ]
  }
 ],
 "metadata": {
  "kernelspec": {
   "display_name": "Python 3 (ipykernel)",
   "language": "python",
   "name": "python3"
  },
  "language_info": {
   "codemirror_mode": {
    "name": "ipython",
    "version": 3
   },
   "file_extension": ".py",
   "mimetype": "text/x-python",
   "name": "python",
   "nbconvert_exporter": "python",
   "pygments_lexer": "ipython3",
   "version": "3.10.1"
  },
  "toc": {
   "base_numbering": 1,
   "nav_menu": {},
   "number_sections": true,
   "sideBar": true,
   "skip_h1_title": false,
   "title_cell": "Table of Contents",
   "title_sidebar": "Contents",
   "toc_cell": false,
   "toc_position": {},
   "toc_section_display": true,
   "toc_window_display": false
  },
  "varInspector": {
   "cols": {
    "lenName": 16,
    "lenType": 16,
    "lenVar": 40
   },
   "kernels_config": {
    "python": {
     "delete_cmd_postfix": "",
     "delete_cmd_prefix": "del ",
     "library": "var_list.py",
     "varRefreshCmd": "print(var_dic_list())"
    },
    "r": {
     "delete_cmd_postfix": ") ",
     "delete_cmd_prefix": "rm(",
     "library": "var_list.r",
     "varRefreshCmd": "cat(var_dic_list()) "
    }
   },
   "types_to_exclude": [
    "module",
    "function",
    "builtin_function_or_method",
    "instance",
    "_Feature"
   ],
   "window_display": false
  }
 },
 "nbformat": 4,
 "nbformat_minor": 5
}
